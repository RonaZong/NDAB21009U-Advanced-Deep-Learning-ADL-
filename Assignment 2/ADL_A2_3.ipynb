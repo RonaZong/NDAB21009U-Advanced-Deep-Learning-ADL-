{
  "nbformat": 4,
  "nbformat_minor": 0,
  "metadata": {
    "colab": {
      "name": "ADL A2_3.ipynb",
      "provenance": [],
      "collapsed_sections": []
    },
    "kernelspec": {
      "name": "python3",
      "display_name": "Python 3"
    },
    "language_info": {
      "name": "python"
    }
  },
  "cells": [
    {
      "cell_type": "code",
      "source": [
        "import numpy as np\n",
        "import torch.nn as nn\n",
        "import random\n",
        "import torch\n",
        "import os\n",
        "import torch.nn.functional as F\n",
        "from sklearn.metrics import mean_squared_error"
      ],
      "metadata": {
        "id": "Vobvs4fHcM1b"
      },
      "execution_count": null,
      "outputs": []
    },
    {
      "cell_type": "code",
      "execution_count": null,
      "metadata": {
        "id": "tC1jeuZYbRvJ"
      },
      "outputs": [],
      "source": [
        "def generate_2(y_no, n_no, min_pow, max_pow):\n",
        "  result = []\n",
        "  # num of ab\n",
        "  for i in range(y_no):\n",
        "    r = random.randint(min_pow//2, max_pow//2)\n",
        "    s = \"a\" * r + \"b\" * r\n",
        "    result.append([s, '1'])\n",
        "\n",
        "  for i in range(n_no):\n",
        "    r_t = random.randint(min_pow, max_pow)\n",
        "    r_1 = random.randint(0, r_t)\n",
        "    r_2 = r_t - r_1\n",
        "    while r_1 == r_2:\n",
        "      r_t = random.randint(min_pow, max_pow)\n",
        "      r_1 = random.randint(0, r_t)\n",
        "      r_2 = r_t - r_1\n",
        "\n",
        "    s = \"a\" * r_1 + \"b\" * r_2\n",
        "    result.append([s, '0'])\n",
        "\n",
        "  return result\n",
        "\n",
        "def generate_3(y_no, n_no, min_pow, max_pow):\n",
        "  result = []\n",
        "  # num of ab\n",
        "  for i in range(y_no):\n",
        "    r = random.randint(min_pow//3, max_pow//3)\n",
        "    s = \"a\" * r + \"b\" * r + \"c\" * r\n",
        "    result.append([s, '1'])\n",
        "\n",
        "  for i in range(n_no):\n",
        "    r_t = random.randint(min_pow, max_pow)\n",
        "    r_1 = random.randint(0, r_t)\n",
        "    r_2 = random.randint(0, r_t-r_1)\n",
        "    r_3 = r_t-r_1-r_2\n",
        "    while r_1 == r_2 and r_1 == r_3:\n",
        "      r_t = random.randint(min_pow, max_pow)\n",
        "      r_1 = random.randint(0, r_t)\n",
        "      r_2 = random.randint(0, r_t-r_1)\n",
        "      r_3 = r_t-r_1-r_2\n",
        "\n",
        "    s = \"a\" * r_1 + \"b\" * r_2 + \"c\" * r_3\n",
        "    result.append([s, '0'])\n",
        "\n",
        "  return result"
      ]
    },
    {
      "cell_type": "code",
      "source": [
        "train_data_abc = generate_3(600, 600, 3, 20)\n",
        "train_data_abc = np.array(train_data_abc)\n",
        "\n",
        "train_tensor_abc_x = list(map(lambda s: torch.from_numpy(np.array([0]*s.count('a')+[1]*s.count('b')+[2]*s.count('c')).astype(np.int32)), train_data_abc[:,0]))\n",
        "train_tensor_abc_y = list(map(lambda s: torch.from_numpy(np.array([s]).astype(np.int32)), train_data_abc[:,1]))\n",
        "\n",
        "from sklearn.model_selection import train_test_split\n",
        "train_abc_x, val_abc_x, train_abc_y, val_abc_y = train_test_split(train_tensor_abc_x, train_tensor_abc_y, test_size=0.2)"
      ],
      "metadata": {
        "id": "c3RSLvxfcOSC"
      },
      "execution_count": null,
      "outputs": []
    },
    {
      "cell_type": "markdown",
      "source": [
        "## Preprocessing"
      ],
      "metadata": {
        "id": "QVeq_sRpcR1d"
      }
    },
    {
      "cell_type": "code",
      "source": [
        "loss_function=nn.NLLLoss()\n",
        "all_losses = []\n",
        "plot_every = 1\n",
        "def train_model(model, epochs=10, lr=0.001):\n",
        "    parameters = filter(lambda p: p.requires_grad, model.parameters())\n",
        "    optimizer = torch.optim.Adam(parameters, lr=lr)\n",
        "    for i in range(epochs):\n",
        "        model.train()\n",
        "        sum_loss = 0.0\n",
        "        total = 0\n",
        "        for x, y in zip(train_abc_x, train_abc_y):\n",
        "            x = x.long()\n",
        "            y = y.long()\n",
        "            model.zero_grad()\n",
        "            model.hidden = model.init_hidden()\n",
        "            y_pred = model(x)\n",
        "            # optimizer.zero_grad()\n",
        "            # print(y_pred)\n",
        "            # print(y_pred.size())\n",
        "            loss = loss_function(y_pred, y)\n",
        "            loss.backward()\n",
        "            optimizer.step()\n",
        "            sum_loss += loss.item()*y.shape[0]\n",
        "            total += y.shape[0]\n",
        "        val_loss, val_acc, val_rmse = validation_metrics(model)\n",
        "        # if i % 5 == 1:\n",
        "        if i % plot_every == 0:\n",
        "          all_losses.append(val_loss)\n",
        "        print(\"traninig loss %.3f, validation loss %.3f, accuracy %.3f %.3f\" % (sum_loss/total, val_loss, val_acc))\n",
        "\n",
        "def validation_metrics (model):\n",
        "    model.eval()\n",
        "    correct = 0\n",
        "    total = 0\n",
        "    sum_loss = 0.0\n",
        "    sum_rmse = 0.0\n",
        "    for x, y in zip(val_abc_x, val_abc_y):\n",
        "        x = x.long()\n",
        "        y = y.long()\n",
        "        model.zero_grad()\n",
        "        model.hidden = model.init_hidden()\n",
        "        y_hat = model(x)\n",
        "        loss = loss_function(y_hat, y)\n",
        "        ttt = torch.max(y_hat, 1)\n",
        "        pred = torch.max(y_hat, 1)[1]\n",
        "        correct += (pred == y).float().sum()\n",
        "        total += y.shape[0]\n",
        "        sum_loss += loss.item()*y.shape[0]\n",
        "        sum_rmse += np.sqrt(mean_squared_error(pred, y.unsqueeze(-1)))*y.shape[0]\n",
        "    return sum_loss/total, correct/total, sum_rmse/total"
      ],
      "metadata": {
        "id": "GVabXU6PcXcR"
      },
      "execution_count": null,
      "outputs": []
    },
    {
      "cell_type": "code",
      "source": [
        "class LSTMTagger(torch.nn.Module):\n",
        "    def __init__(self,embedding_dim,hidden_dim,voacb_size,target_size):\n",
        "        super(LSTMTagger,self).__init__()\n",
        "        self.embedding_dim=embedding_dim\n",
        "        self.hidden_dim=hidden_dim\n",
        "        self.voacb_size=voacb_size\n",
        "        self.target_size=target_size\n",
        "        self.embedding=nn.Embedding(self.voacb_size,self.embedding_dim)\n",
        "        self.lstm=nn.LSTM(self.embedding_dim,self.hidden_dim)\n",
        "        self.out2tag=nn.Linear(self.hidden_dim,self.target_size)\n",
        "\n",
        "        self.hidden = self.init_hidden()\n",
        "\n",
        "    def init_hidden(self):\n",
        "        return (torch.zeros(1, 1, self.hidden_dim),\n",
        "                torch.zeros(1, 1, self.hidden_dim))\n",
        "\n",
        "    def forward(self,inputs):\n",
        "        embeds=self.embedding((inputs))\n",
        "        t = embeds.view(len(inputs),1,-1)\n",
        "        out,(ht, ct)=self.lstm(t,self.hidden)\n",
        "        tag_space=self.out2tag(ht.view(-1, self.hidden_dim))\n",
        "        tags=F.log_softmax(tag_space,dim=1)\n",
        "        return tags"
      ],
      "metadata": {
        "id": "HRpeJrL4dQxE"
      },
      "execution_count": null,
      "outputs": []
    },
    {
      "cell_type": "code",
      "source": [
        "model_LSTMTagger = LSTMTagger(2, 128, 3, 2)\n",
        "train_model(model_LSTMTagger, epochs=30, lr=0.0005)"
      ],
      "metadata": {
        "colab": {
          "base_uri": "https://localhost:8080/"
        },
        "id": "42VcSkoYdhzX",
        "outputId": "840b2237-ad53-4250-f754-19f7ee822c08"
      },
      "execution_count": null,
      "outputs": [
        {
          "output_type": "stream",
          "name": "stdout",
          "text": [
            "train loss 0.458, val loss 0.268, val accuracy 0.921, and val rmse 0.079\n",
            "train loss 0.208, val loss 0.165, val accuracy 0.942, and val rmse 0.058\n",
            "train loss 0.146, val loss 0.136, val accuracy 0.967, and val rmse 0.033\n",
            "train loss 0.168, val loss 0.147, val accuracy 0.954, and val rmse 0.046\n",
            "train loss 0.128, val loss 0.090, val accuracy 0.975, and val rmse 0.025\n",
            "train loss 0.088, val loss 0.097, val accuracy 0.971, and val rmse 0.029\n",
            "train loss 0.076, val loss 0.068, val accuracy 0.979, and val rmse 0.021\n",
            "train loss 0.067, val loss 0.061, val accuracy 0.983, and val rmse 0.017\n",
            "train loss 0.056, val loss 0.055, val accuracy 0.988, and val rmse 0.013\n",
            "train loss 0.053, val loss 0.046, val accuracy 0.988, and val rmse 0.013\n",
            "train loss 0.045, val loss 0.069, val accuracy 0.983, and val rmse 0.017\n",
            "train loss 0.036, val loss 0.013, val accuracy 0.988, and val rmse 0.013\n",
            "train loss 0.027, val loss 0.011, val accuracy 0.992, and val rmse 0.008\n",
            "train loss 0.014, val loss 0.027, val accuracy 0.992, and val rmse 0.008\n",
            "train loss 0.020, val loss 0.042, val accuracy 0.988, and val rmse 0.013\n",
            "train loss 0.048, val loss 0.036, val accuracy 0.988, and val rmse 0.013\n",
            "train loss 0.011, val loss 0.035, val accuracy 0.992, and val rmse 0.008\n",
            "train loss 0.007, val loss 0.029, val accuracy 0.992, and val rmse 0.008\n",
            "train loss 0.007, val loss 0.021, val accuracy 0.992, and val rmse 0.008\n",
            "train loss 0.051, val loss 0.016, val accuracy 0.992, and val rmse 0.008\n",
            "train loss 0.008, val loss 0.011, val accuracy 0.996, and val rmse 0.004\n",
            "train loss 0.010, val loss 0.021, val accuracy 0.992, and val rmse 0.008\n",
            "train loss 0.050, val loss 0.029, val accuracy 0.996, and val rmse 0.004\n",
            "train loss 0.035, val loss 0.012, val accuracy 0.996, and val rmse 0.004\n",
            "train loss 0.014, val loss 0.004, val accuracy 1.000, and val rmse 0.000\n",
            "train loss 0.013, val loss 0.003, val accuracy 1.000, and val rmse 0.000\n",
            "train loss 0.008, val loss 0.029, val accuracy 0.988, and val rmse 0.013\n",
            "train loss 0.007, val loss 0.008, val accuracy 0.996, and val rmse 0.004\n",
            "train loss 0.005, val loss 0.009, val accuracy 0.996, and val rmse 0.004\n",
            "train loss 0.002, val loss 0.017, val accuracy 0.996, and val rmse 0.004\n"
          ]
        }
      ]
    },
    {
      "cell_type": "markdown",
      "source": [
        "## Evaluation"
      ],
      "metadata": {
        "id": "M-eeW0A1hZiY"
      }
    },
    {
      "cell_type": "code",
      "source": [
        "def evaluate_LSTM(str):\n",
        "    model_LSTMTagger.hidden = model_LSTMTagger.init_hidden()\n",
        "    output = model_LSTMTagger(str)\n",
        "    top_n, top_i = output.topk(1)\n",
        "    category_i = top_i[0].item()\n",
        "    return category_i"
      ],
      "metadata": {
        "id": "c113TlH1fV9X"
      },
      "execution_count": null,
      "outputs": []
    },
    {
      "cell_type": "code",
      "source": [
        "test_data_abc = generate_3(600, 600, 21, 50)\n",
        "test_data_abc = np.array(test_data_abc)\n",
        "\n",
        "test_tensor_abc_x = list(map(lambda s: torch.from_numpy(np.array([0]*s.count('a')+[1]*s.count('b')+[2]*s.count('c')).astype(np.int32)), test_data_abc[:, 0]))"
      ],
      "metadata": {
        "id": "wj1gq-RJhw-V"
      },
      "execution_count": null,
      "outputs": []
    },
    {
      "cell_type": "code",
      "source": [
        "i, j = 30, 4\n",
        "preds = [[0 for x in range(j)] for y in range(i)] \n",
        "\n",
        "for index, (x, label) in enumerate(zip(test_tensor_abc_x, test_data_abc[:, 1])):\n",
        "  model_LSTMTagger.hidden = model_LSTMTagger.init_hidden()\n",
        "  output = model_LSTMTagger(x)\n",
        "  top_n, top_i = output.topk(1)\n",
        "  pred = top_i[0].item()\n",
        "  i = len(test_data_abc[index][0])\n",
        "\n",
        "  if pred == 1 and label == '1':\n",
        "    preds[i-21][0] += 1\n",
        "  elif pred == 1 and label == '0':\n",
        "    preds[i-21][1] += 1\n",
        "  elif pred == 0 and label == '1':\n",
        "    preds[i-21][2] += 1\n",
        "  elif pred == 0 and label == '0':\n",
        "    preds[i-21][3] += 1"
      ],
      "metadata": {
        "id": "AE7-NAYmhoIW"
      },
      "execution_count": null,
      "outputs": []
    },
    {
      "cell_type": "code",
      "source": [
        "accuracy_lstm_abc = []\n",
        "for pred in preds:\n",
        "  accuracy_lstm_abc.append((pred[0] + pred[3]) / sum(pred))"
      ],
      "metadata": {
        "id": "1cNAYCYbkUlN"
      },
      "execution_count": null,
      "outputs": []
    },
    {
      "cell_type": "code",
      "source": [
        "import csv\n",
        "\n",
        "def write_to_csv(name, accuracy):\n",
        "  # opening the csv file in 'w+' mode\n",
        "  file = open(name, 'w+', newline ='')\n",
        "  \n",
        "  # writing the data into the file\n",
        "  with file:   \n",
        "    write = csv.writer(file)\n",
        "    write.writerows([accuracy])\n",
        "\n",
        "def read_to_csv(name):\n",
        "  result = []\n",
        "  with open(name, newline='') as inputfile:\n",
        "      for row in csv.reader(inputfile):\n",
        "        result.append(row)\n",
        "\n",
        "  result = result[0]\n",
        "  result = [float(x) for x in result]\n",
        "  return result"
      ],
      "metadata": {
        "id": "naMOzVvAmlOr"
      },
      "execution_count": null,
      "outputs": []
    },
    {
      "cell_type": "code",
      "source": [
        "write_to_csv('accuracy_lstm_abc.csv', accuracy_lstm_abc)\n",
        "write_to_csv('loss_lstm_abc.csv', all_losses)"
      ],
      "metadata": {
        "id": "0J4TsXUWmsI0"
      },
      "execution_count": null,
      "outputs": []
    },
    {
      "cell_type": "code",
      "source": [
        "accuracy_lstm_ab = read_to_csv('accuracy_lstm_ab.csv')\n",
        "accuracy_lstm_abc = read_to_csv('accuracy_lstm_abc.csv')\n",
        "accuracy_rnn_ab = read_to_csv('accuracy_rnn_ab.csv')\n",
        "accuracy_rnn_abc = read_to_csv('accuracy_rnn_abc.csv')"
      ],
      "metadata": {
        "id": "YO-xZLf0nSRi"
      },
      "execution_count": null,
      "outputs": []
    },
    {
      "cell_type": "code",
      "source": [
        "import matplotlib.pyplot as plt\n",
        "import matplotlib.ticker as ticker\n",
        "\n",
        "# data to plot\n",
        "n_groups = 30\n",
        "\n",
        "# create plot\n",
        "fig, ax = plt.subplots()\n",
        "fig.set_size_inches(18, 6)\n",
        "index = np.arange(n_groups)\n",
        "bar_width = 0.2\n",
        "opacity = 1\n",
        "\n",
        "rects1 = plt.bar(index, accuracy_rnn_ab, bar_width,\n",
        "alpha=opacity,\n",
        "label='RNN ab')\n",
        "\n",
        "rects2 = plt.bar(index + bar_width, accuracy_rnn_abc, bar_width,\n",
        "alpha=opacity,\n",
        "label='RNN abc')\n",
        "\n",
        "rects3 = plt.bar(index + 2 * bar_width, accuracy_lstm_ab, bar_width,\n",
        "alpha=opacity,\n",
        "label='LSTM ab')\n",
        "\n",
        "rects4 = plt.bar(index + 3 * bar_width, accuracy_lstm_abc, bar_width,\n",
        "alpha=opacity,\n",
        "label='LSTM abc')\n",
        "\n",
        "plt.xlabel('Testing Line Length')\n",
        "plt.ylabel('Accuracy')\n",
        "plt.xticks(index + bar_width, np.arange(21, 51))\n",
        "plt.legend()\n",
        "\n",
        "plt.tight_layout()\n",
        "plt.show()"
      ],
      "metadata": {
        "colab": {
          "base_uri": "https://localhost:8080/",
          "height": 441
        },
        "id": "JOqAI_-7nWPE",
        "outputId": "bcdffa26-58e5-4327-aace-e131b3690d6c"
      },
      "execution_count": null,
      "outputs": [
        {
          "output_type": "display_data",
          "data": {
            "text/plain": [
              "<Figure size 1296x432 with 1 Axes>"
            ],
            "image/png": "[encoded data removed]"
          },
          "metadata": {
            "needs_background": "light"
          }
        }
      ]
    },
    {
      "cell_type": "code",
      "source": [
        "loss_lstm_ab = read_to_csv('loss_lstm_ab.csv')\n",
        "loss_lstm_abc = read_to_csv('loss_lstm_abc.csv')\n",
        "loss_rnn_ab = read_to_csv('loss_rnn_ab.csv')\n",
        "loss_rnn_abc = read_to_csv('loss_rnn_abc.csv')"
      ],
      "metadata": {
        "id": "Xo3XAQcdGs6d"
      },
      "execution_count": null,
      "outputs": []
    },
    {
      "cell_type": "code",
      "source": [
        "plt.figure()\n",
        "plt.plot(loss_rnn_ab, label='RNN ab', color='blue')\n",
        "plt.plot(loss_rnn_abc, label='RNN abc', color='orange')\n",
        "plt.legend()"
      ],
      "metadata": {
        "colab": {
          "base_uri": "https://localhost:8080/",
          "height": 283
        },
        "id": "ApC003TdGnFF",
        "outputId": "bad89116-ec52-4cec-b56e-1d04b155b64b"
      },
      "execution_count": null,
      "outputs": [
        {
          "output_type": "execute_result",
          "data": {
            "text/plain": [
              "<matplotlib.legend.Legend at 0x7f636d564c50>"
            ]
          },
          "metadata": {},
          "execution_count": 69
        },
        {
          "output_type": "display_data",
          "data": {
            "text/plain": [
              "<Figure size 432x288 with 1 Axes>"
            ],
            "image/png": "[encoded data removed]"
          },
          "metadata": {
            "needs_background": "light"
          }
        }
      ]
    },
    {
      "cell_type": "code",
      "source": [
        "plt.figure()\n",
        "plt.plot(loss_lstm_ab, label='LSTM ab', color='green')\n",
        "plt.plot(loss_lstm_abc, label='LSTM abc', color='red')\n",
        "plt.legend()"
      ],
      "metadata": {
        "id": "chCfqG9VaR0A",
        "outputId": "3d7c28d8-1e78-4b8c-f7ec-d1bc8237c2ab",
        "colab": {
          "base_uri": "https://localhost:8080/",
          "height": 286
        }
      },
      "execution_count": null,
      "outputs": [
        {
          "output_type": "execute_result",
          "data": {
            "text/plain": [
              "<matplotlib.legend.Legend at 0x7f636d4c8050>"
            ]
          },
          "metadata": {},
          "execution_count": 71
        },
        {
          "output_type": "display_data",
          "data": {
            "text/plain": [
              "<Figure size 432x288 with 1 Axes>"
            ],
            "image/png": "[encoded data removed]"
          },
          "metadata": {
            "needs_background": "light"
          }
        }
      ]
    }
  ]
}